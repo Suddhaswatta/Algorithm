{
  "nbformat": 4,
  "nbformat_minor": 0,
  "metadata": {
    "colab": {
      "name": "ShellSort.ipynb",
      "provenance": [],
      "collapsed_sections": [],
      "authorship_tag": "ABX9TyPRkiL3WgBX/IHbUNMd1XUN",
      "include_colab_link": true
    },
    "kernelspec": {
      "name": "python3",
      "display_name": "Python 3"
    }
  },
  "cells": [
    {
      "cell_type": "markdown",
      "metadata": {
        "id": "view-in-github",
        "colab_type": "text"
      },
      "source": [
        "<a href=\"https://colab.research.google.com/github/Suddhaswatta/Algorithm/blob/master/ShellSort.ipynb\" target=\"_parent\"><img src=\"https://colab.research.google.com/assets/colab-badge.svg\" alt=\"Open In Colab\"/></a>"
      ]
    },
    {
      "cell_type": "markdown",
      "metadata": {
        "id": "PqbbSxXuGkCw",
        "colab_type": "text"
      },
      "source": [
        "Problem: Draw a card from hidden deck of with gap value given by Knuth series 1,4,13.... and sort cards at hand in ascending order"
      ]
    },
    {
      "cell_type": "code",
      "metadata": {
        "id": "gcJYRaJZKj_U",
        "colab_type": "code",
        "colab": {}
      },
      "source": [
        "import matplotlib.pyplot as plt"
      ],
      "execution_count": 0,
      "outputs": []
    },
    {
      "cell_type": "markdown",
      "metadata": {
        "id": "TrPJTbODLa76",
        "colab_type": "text"
      },
      "source": [
        "Check Sort Helper"
      ]
    },
    {
      "cell_type": "code",
      "metadata": {
        "id": "EyitncCLuj0l",
        "colab_type": "code",
        "colab": {}
      },
      "source": [
        "def isSorted(arr):\n",
        "  for i in range(1,len(arr)):\n",
        "    if(arr[i-1]>arr[i]): return False\n",
        "  return True  "
      ],
      "execution_count": 0,
      "outputs": []
    },
    {
      "cell_type": "markdown",
      "metadata": {
        "id": "kwAy01a0LTbW",
        "colab_type": "text"
      },
      "source": [
        "Swap Helper"
      ]
    },
    {
      "cell_type": "code",
      "metadata": {
        "id": "eyxfERUxKRil",
        "colab_type": "code",
        "colab": {}
      },
      "source": [
        "def exch(a,i,j):\n",
        "  tmp = a[i]\n",
        "  a[i]=a[j]\n",
        "  a[j]=tmp\n"
      ],
      "execution_count": 0,
      "outputs": []
    },
    {
      "cell_type": "markdown",
      "metadata": {
        "id": "anIyZfDqmJ1Y",
        "colab_type": "text"
      },
      "source": [
        "Knuth Series Generator"
      ]
    },
    {
      "cell_type": "code",
      "metadata": {
        "id": "yYdSTPjjhm0J",
        "colab_type": "code",
        "colab": {}
      },
      "source": [
        "def knuth(limit):\n",
        "  h=0\n",
        "  while(h<limit):\n",
        "    h=3*h+1\n",
        "  while(h>0):\n",
        "    yield int(h)\n",
        "    h = int(h/3)\n",
        "     "
      ],
      "execution_count": 0,
      "outputs": []
    },
    {
      "cell_type": "markdown",
      "metadata": {
        "id": "GPEslCp2mFuA",
        "colab_type": "text"
      },
      "source": [
        "Shell Short Algorithm"
      ]
    },
    {
      "cell_type": "code",
      "metadata": {
        "id": "Cu_-bOOYAhca",
        "colab_type": "code",
        "colab": {}
      },
      "source": [
        "def sort(arr):\n",
        "  N = len(arr)\n",
        "  for k in knuth(N):\n",
        "    print(k)\n",
        "    for i in range(k,N,k):\n",
        "      for j in range(i,0,-k):\n",
        "        if(arr[j]<arr[j-k]): exch(arr,j,j-k)\n",
        "    plot_bar(arr)    \n",
        "    print(arr)\n",
        "    \n"
      ],
      "execution_count": 0,
      "outputs": []
    },
    {
      "cell_type": "markdown",
      "metadata": {
        "id": "kmAT_tq-3UXI",
        "colab_type": "text"
      },
      "source": [
        "Create list which is in descending order"
      ]
    },
    {
      "cell_type": "code",
      "metadata": {
        "id": "3b0fDWHZhs09",
        "colab_type": "code",
        "outputId": "800b274c-925f-457f-fd3e-ad4dc686bdc1",
        "colab": {
          "base_uri": "https://localhost:8080/",
          "height": 34
        }
      },
      "source": [
        "genlist = [*range(11)]\n",
        "genlist = genlist[::-1]\n",
        "genlist"
      ],
      "execution_count": 306,
      "outputs": [
        {
          "output_type": "execute_result",
          "data": {
            "text/plain": [
              "[10, 9, 8, 7, 6, 5, 4, 3, 2, 1, 0]"
            ]
          },
          "metadata": {
            "tags": []
          },
          "execution_count": 306
        }
      ]
    },
    {
      "cell_type": "markdown",
      "metadata": {
        "id": "ULwDVx8j3bgT",
        "colab_type": "text"
      },
      "source": [
        "Plot unsorted list"
      ]
    },
    {
      "cell_type": "code",
      "metadata": {
        "id": "-8WUHLiPQj_K",
        "colab_type": "code",
        "colab": {
          "base_uri": "https://localhost:8080/",
          "height": 265
        },
        "outputId": "739405b4-f840-4e0c-cc2d-9c8e25275aed"
      },
      "source": [
        "plot_bar(genlist)"
      ],
      "execution_count": 307,
      "outputs": [
        {
          "output_type": "display_data",
          "data": {
            "image/png": "[encoded data removed]",
            "text/plain": [
              "<Figure size 432x288 with 1 Axes>"
            ]
          },
          "metadata": {
            "tags": []
          }
        }
      ]
    },
    {
      "cell_type": "markdown",
      "metadata": {
        "id": "HvnZY9u3wY9O",
        "colab_type": "text"
      },
      "source": [
        "Sorting plot step by step"
      ]
    },
    {
      "cell_type": "code",
      "metadata": {
        "id": "WzYFLERIlsCz",
        "colab_type": "code",
        "outputId": "cb7b1678-9fc3-4558-a3a0-40c0295a1f7b",
        "colab": {
          "base_uri": "https://localhost:8080/",
          "height": 880
        }
      },
      "source": [
        "sort(genlist)\n",
        "genlist"
      ],
      "execution_count": 308,
      "outputs": [
        {
          "output_type": "stream",
          "text": [
            "13\n"
          ],
          "name": "stdout"
        },
        {
          "output_type": "display_data",
          "data": {
            "image/png": "[encoded data removed]",
            "text/plain": [
              "<Figure size 432x288 with 1 Axes>"
            ]
          },
          "metadata": {
            "tags": []
          }
        },
        {
          "output_type": "stream",
          "text": [
            "[10, 9, 8, 7, 6, 5, 4, 3, 2, 1, 0]\n",
            "4\n"
          ],
          "name": "stdout"
        },
        {
          "output_type": "display_data",
          "data": {
            "image/png": "[encoded data removed]",
            "text/plain": [
              "<Figure size 432x288 with 1 Axes>"
            ]
          },
          "metadata": {
            "tags": []
          }
        },
        {
          "output_type": "stream",
          "text": [
            "[2, 9, 8, 7, 6, 5, 4, 3, 10, 1, 0]\n",
            "1\n"
          ],
          "name": "stdout"
        },
        {
          "output_type": "display_data",
          "data": {
            "image/png": "[encoded data removed]",
            "text/plain": [
              "<Figure size 432x288 with 1 Axes>"
            ]
          },
          "metadata": {
            "tags": []
          }
        },
        {
          "output_type": "stream",
          "text": [
            "[0, 1, 2, 3, 4, 5, 6, 7, 8, 9, 10]\n"
          ],
          "name": "stdout"
        },
        {
          "output_type": "execute_result",
          "data": {
            "text/plain": [
              "[0, 1, 2, 3, 4, 5, 6, 7, 8, 9, 10]"
            ]
          },
          "metadata": {
            "tags": []
          },
          "execution_count": 308
        }
      ]
    },
    {
      "cell_type": "code",
      "metadata": {
        "id": "dCcLiw9BHGm0",
        "colab_type": "code",
        "colab": {}
      },
      "source": [
        "class Shell:\n",
        "\n",
        "  def __init__(self):\n",
        "    pass\n",
        "\n",
        "  def plot_bar(arr):\n",
        "    x = []\n",
        "    y = arr\n",
        "    for i in arr:\n",
        "      x.append(str(i))\n",
        "    plt.bar(x,y)\n",
        "    plt.show()\n",
        "\n",
        "  def sort(arr):\n",
        "    N = len(arr)\n",
        "    for k in knuth(N):\n",
        "      print(k)\n",
        "      for i in range(k,N,k):\n",
        "        for j in range(i,0,-k):\n",
        "          if(arr[j]<arr[j-k]): exch(arr,j,j-k)\n",
        "      plot_bar(arr)    \n",
        "      print(arr)\n",
        "    \n",
        "  def exch(a,i,j):\n",
        "     tmp = a[i]\n",
        "     a[i]=a[j]\n",
        "     a[j]=tmp\n",
        "\n",
        "  def knuth(limit):\n",
        "    h=0\n",
        "    while(h<limit):\n",
        "      h = 3*h+1\n",
        "      yield h\n",
        "\n",
        "  def isSorted(arr):\n",
        "    for i in range(1,len(arr)):\n",
        "      if(arr[i-1]>arr[i]): return False\n",
        "    return True       "
      ],
      "execution_count": 0,
      "outputs": []
    },
    {
      "cell_type": "code",
      "metadata": {
        "id": "MexZISV0Imbd",
        "colab_type": "code",
        "colab": {
          "base_uri": "https://localhost:8080/",
          "height": 1000
        },
        "outputId": "06a18c74-61e4-41b1-a820-00c2e6e1a7a3"
      },
      "source": [
        "genlist = [*range(20)]\n",
        "genlist = genlist[::-1]\n",
        "print(genlist)\n",
        "s= Shell\n",
        "s.sort(genlist)\n",
        "genlist"
      ],
      "execution_count": 311,
      "outputs": [
        {
          "output_type": "stream",
          "text": [
            "[19, 18, 17, 16, 15, 14, 13, 12, 11, 10, 9, 8, 7, 6, 5, 4, 3, 2, 1, 0]\n",
            "40\n"
          ],
          "name": "stdout"
        },
        {
          "output_type": "display_data",
          "data": {
            "image/png": "[encoded data removed]",
            "text/plain": [
              "<Figure size 432x288 with 1 Axes>"
            ]
          },
          "metadata": {
            "tags": []
          }
        },
        {
          "output_type": "stream",
          "text": [
            "[19, 18, 17, 16, 15, 14, 13, 12, 11, 10, 9, 8, 7, 6, 5, 4, 3, 2, 1, 0]\n",
            "13\n"
          ],
          "name": "stdout"
        },
        {
          "output_type": "display_data",
          "data": {
            "image/png": "[encoded data removed]",
            "text/plain": [
              "<Figure size 432x288 with 1 Axes>"
            ]
          },
          "metadata": {
            "tags": []
          }
        },
        {
          "output_type": "stream",
          "text": [
            "[6, 18, 17, 16, 15, 14, 13, 12, 11, 10, 9, 8, 7, 19, 5, 4, 3, 2, 1, 0]\n",
            "4\n"
          ],
          "name": "stdout"
        },
        {
          "output_type": "display_data",
          "data": {
            "image/png": "[encoded data removed]",
            "text/plain": [
              "<Figure size 432x288 with 1 Axes>"
            ]
          },
          "metadata": {
            "tags": []
          }
        },
        {
          "output_type": "stream",
          "text": [
            "[3, 18, 17, 16, 6, 14, 13, 12, 7, 10, 9, 8, 11, 19, 5, 4, 15, 2, 1, 0]\n",
            "1\n"
          ],
          "name": "stdout"
        },
        {
          "output_type": "display_data",
          "data": {
            "image/png": "[encoded data removed]",
            "text/plain": [
              "<Figure size 432x288 with 1 Axes>"
            ]
          },
          "metadata": {
            "tags": []
          }
        },
        {
          "output_type": "stream",
          "text": [
            "[0, 1, 2, 3, 4, 5, 6, 7, 8, 9, 10, 11, 12, 13, 14, 15, 16, 17, 18, 19]\n"
          ],
          "name": "stdout"
        },
        {
          "output_type": "execute_result",
          "data": {
            "text/plain": [
              "[0, 1, 2, 3, 4, 5, 6, 7, 8, 9, 10, 11, 12, 13, 14, 15, 16, 17, 18, 19]"
            ]
          },
          "metadata": {
            "tags": []
          },
          "execution_count": 311
        }
      ]
    }
  ]
}