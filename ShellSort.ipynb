{
  "nbformat": 4,
  "nbformat_minor": 0,
  "metadata": {
    "colab": {
      "name": "ShellSort.ipynb",
      "provenance": [],
      "collapsed_sections": [],
      "authorship_tag": "ABX9TyMXfe1MWmRaW4e+sF43a9Kh",
      "include_colab_link": true
    },
    "kernelspec": {
      "name": "python3",
      "display_name": "Python 3"
    }
  },
  "cells": [
    {
      "cell_type": "markdown",
      "metadata": {
        "id": "view-in-github",
        "colab_type": "text"
      },
      "source": [
        "<a href=\"https://colab.research.google.com/github/Suddhaswatta/Algorithm/blob/master/ShellSort.ipynb\" target=\"_parent\"><img src=\"https://colab.research.google.com/assets/colab-badge.svg\" alt=\"Open In Colab\"/></a>"
      ]
    },
    {
      "cell_type": "markdown",
      "metadata": {
        "id": "_WHapn4FmYGa",
        "colab_type": "text"
      },
      "source": [
        "Swap Function exchanges a , b"
      ]
    },
    {
      "cell_type": "code",
      "metadata": {
        "id": "eyxfERUxKRil",
        "colab_type": "code",
        "colab": {}
      },
      "source": [
        "def exch(a,i,j):\n",
        "  tmp = a[i]\n",
        "  a[i]=a[j]\n",
        "  a[j]=tmp\n"
      ],
      "execution_count": 0,
      "outputs": []
    },
    {
      "cell_type": "markdown",
      "metadata": {
        "id": "anIyZfDqmJ1Y",
        "colab_type": "text"
      },
      "source": [
        "Knuth Series Generator"
      ]
    },
    {
      "cell_type": "code",
      "metadata": {
        "id": "yYdSTPjjhm0J",
        "colab_type": "code",
        "colab": {}
      },
      "source": [
        "def knuth(limit):\n",
        "  h=0\n",
        "  while(h<limit):\n",
        "    h = 3*h+1\n",
        "    yield h\n",
        "     "
      ],
      "execution_count": 0,
      "outputs": []
    },
    {
      "cell_type": "markdown",
      "metadata": {
        "id": "GPEslCp2mFuA",
        "colab_type": "text"
      },
      "source": [
        "Shell Short Algorithm"
      ]
    },
    {
      "cell_type": "code",
      "metadata": {
        "id": "3LLfc_FBh565",
        "colab_type": "code",
        "colab": {}
      },
      "source": [
        "def sort(arr):\n",
        "  N = len(arr)\n",
        "  k = 0\n",
        "  series = knuth(N)\n",
        "  while(k<N):\n",
        "    k = next(series)\n",
        "    for i in range(k,N,k):\n",
        "      j = i\n",
        "      while(j>0):\n",
        "        if arr[j]<arr[j-k] :\n",
        "          exch(arr,j,j-k)\n",
        "        j=j-k"
      ],
      "execution_count": 0,
      "outputs": []
    },
    {
      "cell_type": "code",
      "metadata": {
        "id": "3b0fDWHZhs09",
        "colab_type": "code",
        "colab": {
          "base_uri": "https://localhost:8080/",
          "height": 34
        },
        "outputId": "93bdc4f5-f795-4784-ffae-a5684cbd83f8"
      },
      "source": [
        "genlist = [*range(20)]\n",
        "genlist = genlist[::-1]\n",
        "genlist"
      ],
      "execution_count": 52,
      "outputs": [
        {
          "output_type": "execute_result",
          "data": {
            "text/plain": [
              "[19, 18, 17, 16, 15, 14, 13, 12, 11, 10, 9, 8, 7, 6, 5, 4, 3, 2, 1, 0]"
            ]
          },
          "metadata": {
            "tags": []
          },
          "execution_count": 52
        }
      ]
    },
    {
      "cell_type": "code",
      "metadata": {
        "id": "WzYFLERIlsCz",
        "colab_type": "code",
        "colab": {
          "base_uri": "https://localhost:8080/",
          "height": 34
        },
        "outputId": "3c0c614d-0a7a-49ef-e38c-03ccfe0f5980"
      },
      "source": [
        "sort(genlist)\n",
        "genlist"
      ],
      "execution_count": 53,
      "outputs": [
        {
          "output_type": "execute_result",
          "data": {
            "text/plain": [
              "[0, 1, 2, 3, 4, 5, 6, 7, 8, 9, 10, 11, 12, 13, 14, 15, 16, 17, 18, 19]"
            ]
          },
          "metadata": {
            "tags": []
          },
          "execution_count": 53
        }
      ]
    }
  ]
}